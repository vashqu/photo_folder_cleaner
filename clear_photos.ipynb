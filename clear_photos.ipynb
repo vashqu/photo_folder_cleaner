{
 "cells": [
  {
   "cell_type": "markdown",
   "id": "4446ff50",
   "metadata": {},
   "source": [
    "# Image Cleanup Pipeline (with CLIP + Duplicate Detection)\n",
    "\n",
    "This notebook provides a pipeline to **clean up a folder of images** by detecting duplicates and classifying them with OpenAI’s CLIP model. The goal is to safely separate \"junk\" images (e.g., screenshots, memes, tickets) from \"keep\" images (e.g., personal photos, travel pictures).\n",
    "\n",
    "To run it you need to put the notebook in the same folder as the images you are cleaning up. Recommended to verify manually as the model may make mistakes.\n",
    "---\n",
    "\n",
    "## ⚙️ Pipeline Overview\n",
    "\n",
    "### 1. Duplicate Detection\n",
    "- Uses **MD5 hashing** to detect identical image files.\n",
    "- The first copy of an image is kept, and duplicates are flagged.\n",
    "- Duplicates are reported but not deleted at this stage.\n",
    "\n",
    "### 2. CLIP Classification (Preview Stage)\n",
    "- Combines **delete categories** (e.g., memes, screenshots, tickets) and **keep categories** (e.g., portraits, selfies, landscapes).\n",
    "- Each image is embedded with CLIP and compared to text prompts.\n",
    "- Images are classified into the category with the **highest similarity score**.\n",
    "- Threshold (default `0.25`) ensures only strong matches are considered.\n",
    "- Up to **3 sample images per category** are displayed with confidence scores for manual review.\n",
    "\n",
    "### 3. Summary Report\n",
    "- Counts of how many images were flagged for each category (both delete + keep).\n",
    "- Helps decide which categories to actually move.\n",
    "\n",
    "### 4. Deletion Stage\n",
    "- User specifies which **delete categories** should be moved.\n",
    "- Selected images (and duplicates) are moved into a `trash/` folder (never permanently deleted).\n",
    "- Progress is tracked with **tqdm progress bars**.\n",
    "- Final summary shows how many images were moved per category and in total.\n",
    "\n",
    "---\n",
    "\n",
    "## ✅ Key Features\n",
    "- **Safe by design**: nothing is permanently deleted; everything goes to `trash/`.\n",
    "- **Preview before delete**: you see flagged images before deciding.\n",
    "- **Customizable categories**: you can tune the prompts and threshold.\n",
    "- **Cross-platform**: works with Apple Silicon (MPS), CUDA GPUs, or CPU.\n",
    "\n",
    "---\n",
    "\n",
    "## ⚠️ Notes\n",
    "- CLIP is powerful but not perfect — borderline images may need manual checking.\n",
    "- Prompts matter: natural, descriptive prompts (like `\"a phone screenshot of an app\"`) improve accuracy.\n",
    "- Raising the threshold (e.g., `0.30`) reduces false positives.\n"
   ]
  },
  {
   "cell_type": "code",
   "execution_count": 3,
   "id": "c727adae",
   "metadata": {},
   "outputs": [],
   "source": [
    "import os\n",
    "import hashlib\n",
    "from pathlib import Path\n",
    "import torch\n",
    "import clip\n",
    "from PIL import Image\n",
    "import matplotlib.pyplot as plt\n",
    "import shutil\n",
    "from collections import Counter\n",
    "from tqdm import tqdm"
   ]
  },
  {
   "cell_type": "code",
   "execution_count": null,
   "id": "8bef72f6",
   "metadata": {},
   "outputs": [
    {
     "name": "stdout",
     "output_type": "stream",
     "text": [
      "Using Apple Silicon GPU (MPS).\n"
     ]
    },
    {
     "name": "stderr",
     "output_type": "stream",
     "text": [
      "Checking duplicates: 100%|██████████| 1/1 [00:00<00:00, 41527.76it/s]\n"
     ]
    },
    {
     "name": "stdout",
     "output_type": "stream",
     "text": [
      "Found 0 duplicates (will be removed later).\n"
     ]
    },
    {
     "name": "stderr",
     "output_type": "stream",
     "text": [
      "Classifying images: 100%|██████████| 1/1 [00:00<00:00, 27594.11it/s]\n"
     ]
    }
   ],
   "source": [
    "\n",
    "# ---------------- SETUP ----------------\n",
    "if torch.backends.mps.is_available():\n",
    "    device = \"mps\"\n",
    "    print(\"Using Apple Silicon GPU (MPS).\") # if you are running it on macbook m3 it processes around 25images/s\n",
    "elif torch.cuda.is_available():\n",
    "    device = \"cuda\"\n",
    "    print(\"Using CUDA GPU.\")\n",
    "else:\n",
    "    device = \"cpu\"\n",
    "    print(\"Falling back to CPU.\")\n",
    "\n",
    "model, preprocess = clip.load(\"ViT-B/32\", device=device)\n",
    "\n",
    "base_dir = Path(os.getcwd())\n",
    "delete_categories = [\n",
    "    \"a phone screenshot of an app or chat with the status bar showing time and battery\",\n",
    "    \"a cropped screenshot that contains mostly text\",\n",
    "    \"a social media meme image with text overlay and jokes\",\n",
    "    \"an internet meme with captions or funny text\",\n",
    "    \"a screenshot from instagram, facebook, or tiktok\",\n",
    "    \"a screenshot of a pdf document or ebook page\",\n",
    "    \"an electronic ticket such as an airplane ticket or concert ticket\",\n",
    "    \"a screenshot of a map application like google maps\",\n",
    "    \"a product photo with labels, prices, or packaging information\"\n",
    "] # example of deletion categories, try to be as precise as possible as the model was trained on sentence labels from the internet\n",
    "keep_categories = [\n",
    "    \"a portrait photo of a woman\",\n",
    "    \"a portrait photo of a man\",\n",
    "    \"a selfie photo taken with a phone camera\",\n",
    "    \"a normal photo of friends or family\",\n",
    "    \"a travel photo of people outdoors\",\n",
    "    \"a photo of a couple together\",\n",
    "    \"a landscape photo of nature or city\",\n",
    "    \"a photo of people at the beach or in a park\",\n",
    "    \"a photo taken with a DSLR or phone camera in natural light\"\n",
    "] # similar to above\n",
    "\n",
    "\n",
    "# --- Duplicate check function ---\n",
    "def file_hash(filepath, block_size=65536):\n",
    "    \"\"\"Return MD5 hash of a file for duplicate detection.\"\"\"\n",
    "    hasher = hashlib.md5()\n",
    "    with open(filepath, \"rb\") as f:\n",
    "        buf = f.read(block_size)\n",
    "        while buf:\n",
    "            hasher.update(buf)\n",
    "            buf = f.read(block_size)\n",
    "    return hasher.hexdigest()\n",
    "\n",
    "hashes = {}\n",
    "duplicates = []\n",
    "\n",
    "# --- Scan directory for duplicates ---\n",
    "for filename in tqdm(os.listdir(base_dir), desc=\"Checking duplicates\"):\n",
    "    if not filename.lower().endswith((\".png\", \".jpg\", \".jpeg\")):\n",
    "        continue\n",
    "    filepath = base_dir / filename\n",
    "    filehash = file_hash(filepath)\n",
    "\n",
    "    if filehash in hashes:\n",
    "        duplicates.append(filepath)\n",
    "    else:\n",
    "        hashes[filehash] = filename\n",
    "\n",
    "print(f\"Found {len(duplicates)} duplicates (will be removed later).\") #we will remove in next cell\n",
    "\n",
    "# ---------------- CLIP PREVIEW ----------------\n",
    "categories = delete_categories + keep_categories\n",
    "\n",
    "text_tokens = clip.tokenize(categories).to(device)\n",
    "with torch.no_grad():\n",
    "    text_features = model.encode_text(text_tokens)\n",
    "    text_features /= text_features.norm(dim=-1, keepdim=True)  # normalize once\n",
    "\n",
    "# Storage\n",
    "category_samples = {cat: [] for cat in categories}\n",
    "to_delete = []  # flagged for deletion\n",
    "to_keep = []    # flagged as safe\n",
    "\n",
    "for filename in tqdm(os.listdir(base_dir), desc=\"Classifying images\"):\n",
    "    if not filename.lower().endswith((\".png\", \".jpg\", \".jpeg\")):\n",
    "        continue\n",
    "    filepath = base_dir / filename\n",
    "    try:\n",
    "        image = preprocess(Image.open(filepath)).unsqueeze(0).to(device)\n",
    "    except Exception as e:\n",
    "        print(f\"Skipping {filename}: {e}\")\n",
    "        continue\n",
    "\n",
    "    with torch.no_grad():\n",
    "        image_features = model.encode_image(image)\n",
    "        image_features /= image_features.norm(dim=-1, keepdim=True)\n",
    "\n",
    "        similarities = (image_features @ text_features.T).squeeze(0)\n",
    "\n",
    "        best_idx = similarities.argmax().item()\n",
    "        best_score = similarities[best_idx].item()\n",
    "\n",
    "        category = categories[best_idx]\n",
    "\n",
    "        if best_score > 0.25:  # threshold, if you want stricter classification raise it\n",
    "            if category in delete_categories:\n",
    "                to_delete.append((filepath, category, best_score))\n",
    "            else:\n",
    "                to_keep.append((filepath, category, best_score))\n",
    "\n",
    "            if len(category_samples[category]) < 3:\n",
    "                category_samples[category].append((filepath, best_score))\n",
    "\n",
    "# --- Show samples per category to know what the model sees ---\n",
    "for cat, samples in category_samples.items():\n",
    "    if samples:\n",
    "        print(f\"\\nCategory: {cat} (showing {len(samples)} samples)\")\n",
    "        fig, axes = plt.subplots(1, len(samples), figsize=(12, 4))\n",
    "        if len(samples) == 1:\n",
    "            axes = [axes]\n",
    "        for ax, (img_path, score) in zip(axes, samples):\n",
    "            ax.imshow(Image.open(img_path))\n",
    "            ax.set_title(f\"{cat}\\n{score:.2f}\")\n",
    "            ax.axis(\"off\")\n",
    "        plt.show()\n",
    "\n",
    "\n"
   ]
  },
  {
   "cell_type": "code",
   "execution_count": 6,
   "id": "fff53d99",
   "metadata": {},
   "outputs": [
    {
     "name": "stderr",
     "output_type": "stream",
     "text": [
      "Moving duplicates: 0it [00:00, ?it/s]"
     ]
    },
    {
     "name": "stdout",
     "output_type": "stream",
     "text": [
      "Moved 0 duplicates to trash.\n",
      "\n",
      "Flagged DELETE images per category:\n",
      "\n",
      "Flagged KEEP images per category:\n",
      "\n",
      "Available DELETE categories in this run:\n"
     ]
    },
    {
     "name": "stderr",
     "output_type": "stream",
     "text": [
      "\n"
     ]
    }
   ],
   "source": [
    "# Create trash folder\n",
    "trash_dir = base_dir / \"trash\"\n",
    "trash_dir.mkdir(exist_ok=True)\n",
    "\n",
    "# --- Move duplicates ---\n",
    "for filepath in tqdm(duplicates, desc=\"Moving duplicates\"):\n",
    "    if filepath.exists():\n",
    "        shutil.move(str(filepath), trash_dir / filepath.name)\n",
    "print(f\"Moved {len(duplicates)} duplicates to trash.\")\n",
    "\n",
    "# --- Show summary of flagged categories ---\n",
    "delete_counts = Counter([c for _, c, _ in to_delete])\n",
    "keep_counts = Counter([c for _, c, _ in to_keep])\n",
    "\n",
    "print(\"\\nFlagged DELETE images per category:\")\n",
    "for cat, count in delete_counts.items():\n",
    "    print(f\"  {cat}: {count}\")\n",
    "\n",
    "print(\"\\nFlagged KEEP images per category:\")\n",
    "for cat, count in keep_counts.items():\n",
    "    print(f\"  {cat}: {count}\")\n",
    "\n",
    "\n",
    "# --- Show which categories are available ---\n",
    "available_delete_cats = sorted(set([c for _, c, _ in to_delete]))\n",
    "print(\"\\nAvailable DELETE categories in this run:\")\n",
    "for cat in available_delete_cats:\n",
    "    count = sum(1 for _, c, _ in to_delete if c == cat)\n",
    "    print(f\"  {cat}: {count}\")\n"
   ]
  },
  {
   "cell_type": "code",
   "execution_count": 7,
   "id": "4bc45448",
   "metadata": {},
   "outputs": [
    {
     "name": "stdout",
     "output_type": "stream",
     "text": [
      "\n",
      " Warning: These categories were not flagged and will be ignored: ['a phone screenshot of an app or chat with the status bar showing time and battery', 'a cropped screenshot that contains mostly text', 'a social media meme image with text overlay and jokes', 'an internet meme with captions or funny text', 'a screenshot of a pdf document or ebook page', 'an electronic ticket such as an airplane ticket or concert ticket', 'a screenshot of a map application like google maps', 'a product photo with labels, prices, or packaging information']\n",
      "\n",
      "You chose to move: ['a phone screenshot of an app or chat with the status bar showing time and battery', 'a cropped screenshot that contains mostly text', 'a social media meme image with text overlay and jokes', 'an internet meme with captions or funny text', 'a screenshot of a pdf document or ebook page', 'an electronic ticket such as an airplane ticket or concert ticket', 'a screenshot of a map application like google maps', 'a product photo with labels, prices, or packaging information']\n"
     ]
    },
    {
     "name": "stderr",
     "output_type": "stream",
     "text": [
      "Moving flagged images: 0it [00:00, ?it/s]"
     ]
    },
    {
     "name": "stdout",
     "output_type": "stream",
     "text": [
      "\n",
      " Finished moving images.\n",
      "TOTAL: 0 images moved to trash.\n",
      "All moved files are in: /Users/vashqu/Desktop/clearing_photos/trash\n"
     ]
    },
    {
     "name": "stderr",
     "output_type": "stream",
     "text": [
      "\n"
     ]
    }
   ],
   "source": [
    "# --- Manually insert the categories you want to delete ---\n",
    "delete_these = [\n",
    "    \"a phone screenshot of an app or chat with the status bar showing time and battery\",\n",
    "    \"a cropped screenshot that contains mostly text\",\n",
    "    \"a social media meme image with text overlay and jokes\",\n",
    "    \"an internet meme with captions or funny text\",\n",
    "    \"a screenshot of a pdf document or ebook page\",\n",
    "    \"an electronic ticket such as an airplane ticket or concert ticket\",\n",
    "    \"a screenshot of a map application like google maps\",\n",
    "    \"a product photo with labels, prices, or packaging information\"\n",
    "]\n",
    "\n",
    "# Validate categories\n",
    "invalid = [cat for cat in delete_these if cat not in available_delete_cats]\n",
    "if invalid:\n",
    "    print(\"\\n Warning: These categories were not flagged and will be ignored:\", invalid)\n",
    "\n",
    "print(\"\\nYou chose to move:\", delete_these)\n",
    "\n",
    "# --- Move only selected categories ---\n",
    "moved_per_cat = Counter()\n",
    "for filepath, category, score in tqdm(to_delete, desc=\"Moving flagged images\"):\n",
    "    if category in delete_these and filepath.exists():\n",
    "        shutil.move(str(filepath), trash_dir / filepath.name)\n",
    "        moved_per_cat[category] += 1\n",
    "\n",
    "# --- Summary ---\n",
    "print(\"\\n Finished moving images.\")\n",
    "for cat, count in moved_per_cat.items():\n",
    "    print(f\"  {cat}: {count} moved\")\n",
    "print(f\"TOTAL: {sum(moved_per_cat.values())} images moved to trash.\")\n",
    "print(\"All moved files are in:\", trash_dir)"
   ]
  },
  {
   "cell_type": "markdown",
   "id": "9892dd74",
   "metadata": {},
   "source": [
    "Remember that the model is not perfect! "
   ]
  },
  {
   "cell_type": "markdown",
   "id": "75e0bf2d",
   "metadata": {},
   "source": []
  }
 ],
 "metadata": {
  "kernelspec": {
   "display_name": "ai4act_env",
   "language": "python",
   "name": "python3"
  },
  "language_info": {
   "codemirror_mode": {
    "name": "ipython",
    "version": 3
   },
   "file_extension": ".py",
   "mimetype": "text/x-python",
   "name": "python",
   "nbconvert_exporter": "python",
   "pygments_lexer": "ipython3",
   "version": "3.10.18"
  }
 },
 "nbformat": 4,
 "nbformat_minor": 5
}
